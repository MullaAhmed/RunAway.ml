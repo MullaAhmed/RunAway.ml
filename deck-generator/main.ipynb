{
  "cells": [
    {
      "cell_type": "markdown",
      "metadata": {
        "id": "khndV6w25AZg"
      },
      "source": [
        "### Import requirements"
      ]
    },
    {
      "cell_type": "code",
      "execution_count": 1,
      "metadata": {
        "id": "D4z9KZTX_V_d"
      },
      "outputs": [
        {
          "name": "stderr",
          "output_type": "stream",
          "text": [
            "c:\\Users\\91869\\AppData\\Local\\Programs\\Python\\Python310\\lib\\site-packages\\tqdm\\auto.py:22: TqdmWarning: IProgress not found. Please update jupyter and ipywidgets. See https://ipywidgets.readthedocs.io/en/stable/user_install.html\n",
            "  from .autonotebook import tqdm as notebook_tqdm\n",
            "A matching Triton is not available, some optimizations will not be enabled.\n",
            "Error caught was: No module named 'triton'\n"
          ]
        }
      ],
      "source": [
        "from functions.main_functions import *"
      ]
    },
    {
      "cell_type": "code",
      "execution_count": 2,
      "metadata": {
        "id": "Wq_NqgEtxXuH"
      },
      "outputs": [],
      "source": [
        "#@markdown ###### Enter a topic:\n",
        "topic=\"Organic Farming\" #@param {type:\"string\"}\n",
        "#@markdown ###### Select a style:\n",
        "Style = \"Style 2\" #@param [\"Style 1\",\"Style 2\",\"Style 3\"] {type:\"string\"}\n",
        "#@markdown ###### Select a number of slides\n",
        "Number_of_Slides=5 #@param {type:\"slider\", min:2, max:7, step:1}\n",
        "#@markdown ###### Select the image source\n",
        "image_source=\"Pexel\"#@param [\"Pexel\",\"Unsplash\",\"Stable Diffusion\"] {type:\"string\"}\n",
        "#@markdown ###### Select a Stable diffusion model if image source is \"Stable diffusion\"\n",
        "sd_model= \"Lykon/DreamShaper\" #@param {type:\"string\"}\n",
        "#@markdown ###### Select an Openai Model:\n",
        "engine=\"gpt-3.5-turbo\" #@param [\"gpt-4-32k-0613\",\"gpt-4-32k\",\"gpt-4-0613\",\"gpt-4\",\"gpt-3.5-turbo-16k-0613\",\"gpt-3.5-turbo-0613\",\"gpt-3.5-turbo-16k\",\"gpt-3.5-turbo\",\"text-ada-001\",\"text-babbage-001\",\"text-curie-001\",\"text-davinci-002\",\"text-davinci-003\"]{type:\"string\"}\n",
        "#@markdown ###### Enter your OpenAi api key here:\n",
        "api_key=''#@param {type:\"string\"}\n",
        "\n",
        "text_models=[\"text-ada-001\",\"text-babbage-001\",\"text-curie-001\",\"text-davinci-002\",\"text-davinci-003\"]\n",
        "chat_models=[\"gpt-4-32k-0613\",\"gpt-4-32k\",\"gpt-4-0613\",\"gpt-4\",\"gpt-3.5-turbo-16k-0613\",\"gpt-3.5-turbo-0613\",\"gpt-3.5-turbo-16k\",\"gpt-3.5-turbo\"]\n",
        "styles={\"Style 1\":\"style1.css\",\"Style 2\":\"style2.css\",\"Style 3\":\"style3.css\"}\n",
        "type_of_slides=[\"info-1\", \"info-2\",\"img\", \"bullets\"]\n",
        "\n",
        "use_chat = False if engine in text_models else True\n",
        "\n",
        "style=styles[Style]\n",
        "slides = [\"slide-1:title\"]\n",
        "\n",
        "nums=Number_of_Slides-(Number_of_Slides//2)\n",
        "slides.extend([f\"slide-{i+2}:{type_of_slides[0:2][int(random.randint(0,1))]}\" for i in range(nums)])\n",
        "slides.extend([f\"slide-{i+nums+2}:{type_of_slides[2:4][int(random.randint(0,1))]}\" for i in range(Number_of_Slides-(nums)-1)])"
      ]
    },
    {
      "cell_type": "code",
      "execution_count": 3,
      "metadata": {
        "id": "KTtzqV4P_cXL"
      },
      "outputs": [],
      "source": [
        "bg_image=image_to_base64(get_background(style))\n",
        "content= generate_content(slides,topic,engine,api_key,use_chat)"
      ]
    },
    {
      "cell_type": "markdown",
      "metadata": {
        "id": "2tHMpiKgX5ZD"
      },
      "source": [
        "### Make sure that the `content` is not `None`.\n",
        "#### At times openai api returns an error due to various reasons,`re-run` the above cell till `content` is not `None`."
      ]
    },
    {
      "cell_type": "code",
      "execution_count": 5,
      "metadata": {
        "colab": {
          "base_uri": "https://localhost:8080/"
        },
        "id": "f863hHhMI0rg",
        "outputId": "400b07e4-8d55-4630-915d-3cc06a9965f1"
      },
      "outputs": [
        {
          "name": "stdout",
          "output_type": "stream",
          "text": [
            "{'slide-1:title': {'title': 'Benefits of Organic Farming', 'subtitle': 'A sustainable and chemical-free approach to agriculture'}, 'slide-2:info-1': {'heading': 'What is Organic Farming?', 'paragraphs': ['Organic farming is an agricultural method that relies on natural techniques and avoids the use of synthetic chemicals, genetically modified organisms (GMOs), and pesticides.', 'The main principles of organic farming include soil fertility management, crop rotation, biological pest control, and the minimum use of external inputs.', 'Organic farming promotes environmental sustainability, biodiversity, and the production of nutritious and healthy food.'], 'img': 'An image depicting a farmer working on a chemical-free organic farm'}, 'slide-3:info-2': {'heading': 'Advantages of Organic Farming', 'paragraphs': ['1. Environmental Benefits: Organic farming practices promote soil health and prevent soil erosion. They also help conserve water, reduce pollution, and preserve natural habitats and wildlife.', '2. Health Benefits: Organic food is free from synthetic pesticides, artificial fertilizers, and genetically modified organisms. Consuming organic produce can help reduce the intake of harmful chemicals and promote human health.', '3. Nutritional Benefits: Studies suggest that organic crops have higher levels of antioxidants, vitamins, and minerals compared to conventionally grown crops.', '4. Economic Benefits: Organic farming supports local economies by creating job opportunities and promoting sustainable agricultural practices.', '5. Taste and Quality: Organic foods are often praised for their superior taste, quality, and flavor.'], 'img': 'An image showing fresh, organic fruits and vegetables'}, 'slide-4:info-2': {'heading': 'Challenges and Future of Organic Farming', 'paragraphs': ['While organic farming has numerous benefits, it faces challenges like higher labor costs, limited market access, and the risk of pest and disease management.', 'However, the demand for organic products is increasing globally due to growing health and environmental concerns. With technological advancements and policy support, the future of organic farming looks promising.', 'There is a need to educate and raise awareness among consumers about the importance of organic farming and its impact on personal health and the environment.'], 'img': 'An image illustrating farmers implementing innovative organic farming techniques'}, 'slide-5:img': {'title': 'Organic Farming', 'img': 'An image showcasing a vibrant and diverse organic farm'}}\n"
          ]
        }
      ],
      "source": [
        "print(content)"
      ]
    },
    {
      "cell_type": "code",
      "execution_count": 6,
      "metadata": {
        "colab": {
          "base_uri": "https://localhost:8080/"
        },
        "id": "SzsGVniDD3UA",
        "outputId": "ac7d9bf5-6d23-4b22-964c-b6e1768b4ab5"
      },
      "outputs": [
        {
          "name": "stdout",
          "output_type": "stream",
          "text": [
            "<Response [200]>\n",
            "<Response [200]>\n",
            "<Response [200]>\n",
            "<Response [200]>\n"
          ]
        }
      ],
      "source": [
        "html=generate_template(style, slides,content,bg_image,image_source).render()"
      ]
    },
    {
      "cell_type": "markdown",
      "metadata": {
        "id": "O1aKlOXAZdBF"
      },
      "source": [
        "###### This cell may return an error but it can be ignore, the pdf can be seen in the left panel"
      ]
    },
    {
      "cell_type": "code",
      "execution_count": null,
      "metadata": {
        "id": "HeNMHRRcIQ7T"
      },
      "outputs": [],
      "source": [
        "render_pdfkit(html,topic.replace(\" \",\"-\")+\".pdf\")"
      ]
    },
    {
      "cell_type": "code",
      "execution_count": null,
      "metadata": {},
      "outputs": [],
      "source": []
    }
  ],
  "metadata": {
    "accelerator": "GPU",
    "colab": {
      "gpuType": "T4",
      "provenance": []
    },
    "kernelspec": {
      "display_name": "Python 3",
      "name": "python3"
    },
    "language_info": {
      "codemirror_mode": {
        "name": "ipython",
        "version": 3
      },
      "file_extension": ".py",
      "mimetype": "text/x-python",
      "name": "python",
      "nbconvert_exporter": "python",
      "pygments_lexer": "ipython3",
      "version": "3.10.9"
    }
  },
  "nbformat": 4,
  "nbformat_minor": 0
}
